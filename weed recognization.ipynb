{
 "cells": [
  {
   "cell_type": "code",
   "execution_count": 1,
   "metadata": {},
   "outputs": [
    {
     "ename": "SyntaxError",
     "evalue": "invalid syntax (<ipython-input-1-079c434193d2>, line 14)",
     "output_type": "error",
     "traceback": [
      "\u001b[0;36m  File \u001b[0;32m\"<ipython-input-1-079c434193d2>\"\u001b[0;36m, line \u001b[0;32m14\u001b[0m\n\u001b[0;31m    import\u001b[0m\n\u001b[0m          ^\u001b[0m\n\u001b[0;31mSyntaxError\u001b[0m\u001b[0;31m:\u001b[0m invalid syntax\n"
     ]
    }
   ],
   "source": [
    "%matplotlib inline\n",
    "\n",
    "import cv2\n",
    "import matplotlib.pyplot as plt\n",
    "import pickle\n",
    "from sqlite3 import dbapi2 as sqlite\n",
    "from os import (\n",
    "    path, listdir,\n",
    ")\n",
    "import re\n",
    "import numpy as np\n",
    "from process.preprocess import cut_patches\n",
    "\n",
    "import"
   ]
  },
  {
   "cell_type": "markdown",
   "metadata": {},
   "source": [
    "## Data description"
   ]
  },
  {
   "cell_type": "markdown",
   "metadata": {},
   "source": [
    "### For the test images"
   ]
  },
  {
   "cell_type": "markdown",
   "metadata": {},
   "source": [
    "There are totally 37 images for testing. The ids for these test images is "
   ]
  },
  {
   "cell_type": "markdown",
   "metadata": {},
   "source": [
    "## Color Normalization"
   ]
  },
  {
   "cell_type": "code",
   "execution_count": null,
   "metadata": {},
   "outputs": [],
   "source": [
    "# connetion to the database\n",
    "\n",
    "con = sqlite.connect('barley_30m.db')\n",
    "c = con.cursor()"
   ]
  },
  {
   "cell_type": "code",
   "execution_count": null,
   "metadata": {},
   "outputs": [],
   "source": [
    "# Example for the rgb and hsv.\n",
    "\n",
    "a, b = c.execute('select rgb, hsv from img limit 1').fetchone()\n",
    "plt.imshow(pickle.loads(a))\n",
    "plt.title('In RGB space')"
   ]
  },
  {
   "cell_type": "code",
   "execution_count": null,
   "metadata": {},
   "outputs": [],
   "source": [
    "ids = [i for i, in c.execute('select id from img').fetchall()]\n",
    "id_train = np.random.choice(ids, size=20)\n",
    "id_validation = [i for i in ids if i not in id_train]\n",
    "\n",
    "img_train = []\n",
    "img_val = []\n",
    "label_train = []\n",
    "label_val = []\n",
    "\n",
    "for i in id_train:\n",
    "    rgb, label = c.execute('select rgb, label from img where id=%s' % i).fetchone()\n",
    "    img_train.append(pickle.loads(a))\n",
    "    if label == 1:\n",
    "        label_train.append([0, 1])\n",
    "    else:\n",
    "        label_train.append([1, 0])\n",
    "\n",
    "x_tr = np.array(img_train)\n",
    "y_tr = np.array(label_train)\n",
    "\n",
    "for i in id_validation:\n",
    "    rgb, label = c.execute('select rgb, label from img where id=%s' % i).fetchone()\n",
    "    img_val.append(pickle.loads(a))\n",
    "    if label == 1:\n",
    "        label_val.append([0, 1])\n",
    "    else:\n",
    "        label_val.append([1, 0])\n",
    "\n",
    "x_val = np.array(img_val)\n",
    "y_val = np.array(label_val)"
   ]
  },
  {
   "cell_type": "code",
   "execution_count": null,
   "metadata": {},
   "outputs": [],
   "source": [
    "import tensorflow as tf\n",
    "\n",
    "sess = tf.InteractiveSession()\n",
    "\n",
    "def weight_variable(shape):\n",
    "    initial = tf.truncated_normal(shape, stddev=0.1)\n",
    "    return tf.Variable(initial, name=\"W\")\n",
    "\n",
    "\n",
    "def bias_variable(shape):\n",
    "    initial = tf.constant(0.1, shape=shape)\n",
    "    return tf.Variable(initial, name=\"bias\")\n",
    "\n",
    "\n",
    "def conv2d(x, W):\n",
    "    return tf.nn.conv2d(x, W, strides=[1,1,1,1], padding=\"SAME\", name=\"conv2d\")\n",
    "\n",
    "\n",
    "def max_pool(x):\n",
    "    return tf.nn.max_pool(\n",
    "        x,\n",
    "        ksize=[1, 2, 2, 1],\n",
    "        strides=[1, 2, 2, 1],\n",
    "        padding=\"SAME\",\n",
    "        name=\"pooled\")\n",
    "\n",
    "xs = tf.placeholder(tf.float32, [None, 100, 100, 3])\n",
    "ys = tf.placeholder(tf.float32, [None, 2])\n",
    "keep_prob = tf.placeholder(tf.float32)\n",
    "\n",
    "\n",
    "# conv_1 layer\n",
    "# with tf.name_scope('conv-layer-1'):\n",
    "W_conv1 = weight_variable([5, 5, 3, 32]) # outsize=32 :  convolutions units\n",
    "b_conv1 = bias_variable([32])\n",
    "h_conv1 = tf.nn.relu(conv2d(xs, W_conv1) + b_conv1) # 100 * 100 * 32\n",
    "h_pooled_1 = max_pool(h_conv1) # 50 * 50 * 32\n",
    "\n",
    "\n",
    "# conv_2 layer\n",
    "#with tf.name_scope('conv-layer-2'):\n",
    "W_conv2 = weight_variable([5,5,32,64]) # outsize=64\n",
    "b_conv2 = bias_variable([64])\n",
    "h_conv2 = tf.nn.relu(conv2d(h_pooled_1, W_conv2) + b_conv2) # 25 * 25 *64\n",
    "h_pooled_2 = max_pool(h_conv2) # 25 * 25 * 64\n",
    "\n",
    "\n",
    "# func1 layer\n",
    "# with tf.name_scope('nn-layer-1'):\n",
    "W_fun1 = weight_variable([25*25*64, 256])\n",
    "b_fun1 = bias_variable([256])\n",
    "h_pool2_flat = tf.reshape(h_pooled_2, [-1, 25*25*64])\n",
    "h_fun2 = tf.nn.relu(tf.matmul(h_pool2_flat, W_fun1) + b_fun1)\n",
    "h_fun2_drop = tf.nn.dropout(h_fun2, keep_prob)\n",
    "\n",
    "\n",
    "# func2 layer\n",
    "# with tf.name_scope('nn-layer-2'):\n",
    "W_fun2 = weight_variable([256, 2])\n",
    "b_fun2 = bias_variable([2])\n",
    "prediction = tf.nn.softmax(tf.matmul(h_fun2_drop, W_fun2) + b_fun2)\n",
    "\n",
    "cross_entropy = tf.reduce_mean(-tf.reduce_sum(ys * tf.log(prediction)))\n",
    "train_step = tf.train.AdamOptimizer(1e-04).minimize(cross_entropy)\n",
    "\n",
    "# accuracy\n",
    "correct_prediction = tf.equal(tf.argmax(prediction, 1), tf.argmax(ys, 1))\n",
    "accuracy = tf.reduce_mean(tf.cast(correct_prediction, tf.float32))\n",
    "\n",
    "sess.run(tf.initialize_all_variables())\n",
    "\n",
    "for i in range(200):\n",
    "    if i % 10 == 0:\n",
    "        train_accuacy = accuracy.eval(feed_dict={xs: x_tr, ys: y_tr, keep_prob: 1.0})\n",
    "        print(\"step %d, training accuracy %g\"%(i, train_accuacy))\n",
    "    train_step.run(feed_dict = {xs: x_tr, ys: y_tr, keep_prob: 1.0})\n",
    "\n",
    "# accuacy on test\n",
    "print(\"test accuracy %g\"%(accuracy.eval(feed_dict={xs: x_val, ys: y_val, keep_prob: 1.0})))"
   ]
  }
 ],
 "metadata": {
  "kernelspec": {
   "display_name": "Python 2",
   "language": "python",
   "name": "python2"
  },
  "language_info": {
   "codemirror_mode": {
    "name": "ipython",
    "version": 2
   },
   "file_extension": ".py",
   "mimetype": "text/x-python",
   "name": "python",
   "nbconvert_exporter": "python",
   "pygments_lexer": "ipython2",
   "version": "2.7.13"
  }
 },
 "nbformat": 4,
 "nbformat_minor": 2
}
